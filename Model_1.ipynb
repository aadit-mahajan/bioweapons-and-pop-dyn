{
 "cells": [
  {
   "cell_type": "code",
   "execution_count": 65,
   "id": "e9c23f3a",
   "metadata": {},
   "outputs": [],
   "source": [
    "import numpy as np\n",
    "import matplotlib.pyplot as plt\n",
    "import random\n",
    "import math"
   ]
  },
  {
   "cell_type": "markdown",
   "id": "c9b8f25c",
   "metadata": {},
   "source": [
    "Stuff to consider:\n",
    "Travel Restrictions\n",
    "Interaction reduction (int_red); Population_Density \n",
    "Death Rates, Birth rates\n",
    "Evolution of virus\n",
    "Effectiveness of vaccine\n",
    "Effect of infection (50% effectiveness) \n"
   ]
  },
  {
   "cell_type": "code",
   "execution_count": 66,
   "id": "3ebef64e",
   "metadata": {
    "scrolled": true
   },
   "outputs": [],
   "source": [
    "GEN_POP = 500000\n",
    "num_c = 10\n",
    "city_pop = GEN_POP/num_c\n",
    "\n",
    "INIT_INFECTED = 10\n",
    "population = city_pop*np.ones(num_c)\n",
    "infected_1 = np.zeros(num_c)\n",
    "infected_2 = 5*np.ones(num_c)\n",
    "\n",
    "ind = np.random.randint(0, num_c)\n",
    "infected_1[ind] = INIT_INFECTED\n",
    "            \n",
    "            \n",
    "    \n",
    "\n"
   ]
  },
  {
   "cell_type": "code",
   "execution_count": 67,
   "id": "4ab53198",
   "metadata": {},
   "outputs": [],
   "source": [
    "def migration(pop):\n",
    "#     print(sum(pop))\n",
    "#     print(pop)\n",
    "    mig_rate = np.zeros((num_c,num_c))\n",
    "    for i in range(num_c):\n",
    "        for j in range(num_c):\n",
    "            if (i!=j):\n",
    "                mig_rate[i][j] = math.floor((4 + 4*random.random())*pop[i]/100)\n",
    "                pop[j] += mig_rate[i,j]\n",
    "        pop[i] -= sum(mig_rate[i])\n",
    "#     print(mig_rate)\n",
    "    return pop"
   ]
  },
  {
   "cell_type": "code",
   "execution_count": 68,
   "id": "a9a2bea6",
   "metadata": {},
   "outputs": [],
   "source": [
    "def inf_mig(pop):\n",
    "#     print(sum(pop))\n",
    "#     print(pop)\n",
    "    mig_rate = np.zeros((num_c,num_c))\n",
    "    for i in range(num_c):\n",
    "        for j in range(num_c):\n",
    "            if (i!=j):\n",
    "                if sum(mig_rate[i]) < pop[i]:\n",
    "                    diff = pop[i] - sum(mig_rate[i])\n",
    "                    mig_rate[i][j] = random.randint(0,math.floor(diff/2))\n",
    "                    \n",
    "    for i in range(num_c):\n",
    "        pop[i] -= sum(mig_rate[i])\n",
    "    for i in range(num_c):\n",
    "        pop[i] += sum(mig_rate[:,i])\n",
    "    return pop"
   ]
  },
  {
   "cell_type": "code",
   "execution_count": 69,
   "id": "134bb4ab",
   "metadata": {},
   "outputs": [],
   "source": [
    "def infect(pop,inf):\n",
    "#     pop = pop - inf\n",
    "    sum_pop = pop + inf \n",
    "#     print(pop)\n",
    "#     print(inf)\n",
    "    for i in range(num_c):\n",
    "        if inf[i] > 0.2*pop[i]:\n",
    "            interaction_rate = np.random.randint(5, 8)\n",
    "        if inf[i] > 0.7*pop[i]:\n",
    "            interaction_rate = np.random.randint(2, 5)\n",
    "        if inf[i] > pop[i]:\n",
    "            interaction_rate = 0\n",
    "        else:\n",
    "            interaction_rate = np.random.randint(7, 12)\n",
    "        infect_prob = 0.3\n",
    "        del_inf = math.floor(inf[i]*interaction_rate*infect_prob)\n",
    "        if del_inf < pop[i] and pop[i]>0 and inf[i] > 0:\n",
    "            pop[i] -= del_inf\n",
    "            inf[i] += del_inf \n",
    "        elif del_inf > pop[i]:\n",
    "            del_inf = pop[i]\n",
    "            pop[i] -= del_inf\n",
    "            inf[i] += del_inf"
   ]
  },
  {
   "cell_type": "code",
   "execution_count": 70,
   "id": "0950c5c6",
   "metadata": {},
   "outputs": [],
   "source": [
    "# # print(migration(population))\n",
    "# for i in range(10):\n",
    "#     print(inf_mig(infected_1))\n",
    "# print('______________')\n",
    "# for i in range(10):\n",
    "#     print(inf_mig(infected_2))\n",
    "# for i in range(10):\n",
    "#     infect(population,infected_2)"
   ]
  },
  {
   "cell_type": "code",
   "execution_count": 71,
   "id": "4d844d54",
   "metadata": {},
   "outputs": [
    {
     "name": "stdout",
     "output_type": "stream",
     "text": [
      "[100. 100. 100. 100. 100. 100. 100. 100. 100. 100.]\n",
      "[100. 100. 100. 100. 100.  90. 100. 100. 100. 100.]\n",
      "New Day\n",
      "Healthy Population : [125. 118. 108. 105. 100.  96.  93.  89.  79.  77.] 990.0\n",
      "Infected Population: [0. 5. 2. 1. 0. 1. 1. 0. 0. 0.] 10.0\n",
      "Total Population : [125. 123. 110. 106. 100.  97.  94.  89.  79.  77.] 1000.0\n",
      "New Day\n",
      "Healthy Population : [124. 113. 105. 102.  96.  93.  99.  92.  66.  72.] 962.0\n",
      "Infected Population: [11.  3.  5.  4.  3.  5.  4.  1.  1.  1.] 38.0\n",
      "Total Population : [135. 116. 110. 106.  99.  98. 103.  93.  67.  73.] 1000.0\n",
      "New Day\n",
      "Healthy Population : [110. 112. 104.  79.  96.  86.  86.  79.  56.  63.] 871.0\n",
      "Infected Population: [23. 20. 25. 19. 13.  6.  6.  7.  4.  6.] 129.0\n",
      "Total Population : [133. 132. 129.  98. 109.  92.  92.  86.  60.  69.] 1000.0\n",
      "New Day\n",
      "Healthy Population : [55. 54. 59. 45. 61. 56. 66. 49. 43. 38.] 526.0\n",
      "Infected Population: [146.  71.  60.  54.  48.  33.  34.  11.   7.  10.] 474.0\n",
      "Total Population : [201. 125. 119.  99. 109.  89. 100.  60.  50.  48.] 1000.0\n",
      "New Day\n",
      "Healthy Population : [39. 45. 37. 38. 15. 17. 15. 20. 24. 13.] 263.0\n",
      "Infected Population: [158. 155.  86.  76.  64.  47.  55.  22.  42.  32.] 737.0\n",
      "Total Population : [197. 200. 123. 114.  79.  64.  70.  42.  66.  45.] 1000.0\n"
     ]
    }
   ],
   "source": [
    "GEN_POP = 1000\n",
    "num_c = 10\n",
    "city_pop = GEN_POP/num_c\n",
    "\n",
    "INIT_INFECTED = 10\n",
    "population = city_pop*np.ones(num_c)\n",
    "infected_1 = np.zeros(num_c)\n",
    "ind = np.random.randint(0, num_c)\n",
    "infected_1[ind] = INIT_INFECTED\n",
    "\n",
    "infected_2 = 5*np.ones(num_c)\n",
    "print(population)\n",
    "population = population - infected_1\n",
    "print(population)\n",
    "\n",
    "\n",
    "\n",
    "def new_day(pop, inf):\n",
    "    print('New Day')\n",
    "    print('Healthy Population :',migration(pop),sum(pop))\n",
    "    print('Infected Population:',inf_mig(inf), sum(inf))\n",
    "    print('Total Population :' ,pop+inf,sum(pop+inf))\n",
    "    infect(pop,inf)\n",
    "for i in range(5):\n",
    "    new_day(population,infected_1)"
   ]
  },
  {
   "cell_type": "code",
   "execution_count": null,
   "id": "f6b5268c",
   "metadata": {},
   "outputs": [],
   "source": []
  }
 ],
 "metadata": {
  "kernelspec": {
   "display_name": "Python 3 (ipykernel)",
   "language": "python",
   "name": "python3"
  },
  "language_info": {
   "codemirror_mode": {
    "name": "ipython",
    "version": 3
   },
   "file_extension": ".py",
   "mimetype": "text/x-python",
   "name": "python",
   "nbconvert_exporter": "python",
   "pygments_lexer": "ipython3",
   "version": "3.10.4"
  }
 },
 "nbformat": 4,
 "nbformat_minor": 5
}
