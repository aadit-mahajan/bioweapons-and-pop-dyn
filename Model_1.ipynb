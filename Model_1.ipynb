{
 "cells": [
  {
   "cell_type": "code",
   "execution_count": 234,
   "id": "e9c23f3a",
   "metadata": {},
   "outputs": [],
   "source": [
    "import numpy as np\n",
    "import matplotlib.pyplot as plt\n",
    "import random\n",
    "import math\n",
    "\n",
    "GEN_POP = 1000\n",
    "num_c = 4\n",
    "city_pop = GEN_POP/num_c\n",
    "\n",
    "INIT_INFECTED = 10\n",
    "population = city_pop*np.ones((1, num_c))\n",
    "infected = np.zeros((1, num_c))\n",
    "\n",
    "ind = np.random.randint(0, num_c)\n",
    "infected[0,ind] = INIT_INFECTED\n",
    "imig = 0\n",
    "emig = 0\n",
    "\n",
    "interaction_rate = np.random.randint(7, 12) #changeable\n",
    "infect_prob = 0.3\n",
    "\n",
    "birth_rate = 0\n",
    "death_rate = 0\n",
    "\n",
    "def infect(IMIG, EMIG, infect_prob, city_index):\n",
    "    inf = infected[city_index]\n",
    "    inf = inf(1 + interaction_rate*infect_prob)\n",
    "    infected[city_index] = inf\n",
    "\n",
    "#while writing main loop, remember to add code for choosing number of infected \n",
    "#going to a particular city\n"
   ]
  },
  {
   "cell_type": "code",
   "execution_count": 233,
   "id": "3ebef64e",
   "metadata": {
    "scrolled": true
   },
   "outputs": [
    {
     "name": "stdout",
     "output_type": "stream",
     "text": [
      "1000.0\n",
      "[250. 250. 250. 250.]\n",
      "[268. 251. 240. 241.]\n",
      "[10.  0.  0.  0.]\n",
      "[ 0.  0. 10.  0.]\n",
      "[6. 0. 0. 4.]\n",
      "[3. 1. 5. 1.]\n",
      "[8. 1. 1. 0.]\n",
      "[2. 4. 1. 3.]\n",
      "[4. 4. 2. 0.]\n",
      "[3. 5. 1. 1.]\n",
      "[4. 5. 1. 0.]\n",
      "[0. 5. 3. 2.]\n",
      "______________\n",
      "[5. 5. 5. 5.]\n",
      "[8. 4. 3. 5.]\n",
      "[8. 8. 2. 2.]\n",
      "[9. 5. 4. 2.]\n",
      "[ 3. 16.  1.  0.]\n",
      "[4. 6. 6. 4.]\n",
      "[5. 3. 7. 5.]\n",
      "[8. 6. 5. 1.]\n",
      "[8. 2. 8. 2.]\n",
      "[12.  5.  1.  2.]\n"
     ]
    }
   ],
   "source": [
    "GEN_POP = 1000\n",
    "num_c = 4\n",
    "city_pop = GEN_POP/num_c\n",
    "\n",
    "INIT_INFECTED = 10\n",
    "population = city_pop*np.ones(num_c)\n",
    "infected_1 = np.zeros(num_c)\n",
    "infected_2 = 5*np.ones(num_c)\n",
    "\n",
    "ind = np.random.randint(0, num_c)\n",
    "infected_1[ind] = INIT_INFECTED\n",
    "\n",
    "def infect(IMIG, EMIG, infect_prob, city_index):\n",
    "    inf = infected[city_index]\n",
    "    inf = inf(1 + interaction_rate*infect_prob)\n",
    "    infected[city_index] = inf\n",
    "\n",
    "\n",
    "def migration(pop):\n",
    "    print(sum(pop))\n",
    "    print(pop)\n",
    "    mig_rate = np.zeros((num_c,num_c))\n",
    "    for i in range(num_c):\n",
    "        for j in range(num_c):\n",
    "            if (i!=j):\n",
    "                mig_rate[i][j] = math.floor((4 + 4*random.random())*pop[i]/100)\n",
    "                pop[j] += mig_rate[i,j]\n",
    "        pop[i] -= sum(mig_rate[i])\n",
    "#     print(mig_rate)\n",
    "    return pop\n",
    "    \n",
    "def inf_mig(pop):\n",
    "#     print(sum(pop))\n",
    "    print(pop)\n",
    "    mig_rate = np.zeros((num_c,num_c))\n",
    "    for i in range(num_c):\n",
    "        for j in range(num_c):\n",
    "            if (i!=j):\n",
    "                if sum(mig_rate[i]) < pop[i]:\n",
    "                    diff = pop[i] - sum(mig_rate[i])\n",
    "                    mig_rate[i][j] = random.randint(0,diff)\n",
    "                    \n",
    "    for i in range(num_c):\n",
    "        pop[i] -= sum(mig_rate[i])\n",
    "    for i in range(num_c):\n",
    "        pop[i] += sum(mig_rate[:,i])\n",
    "    return mig_rate , pop\n",
    "    \n",
    "\n",
    "print(migration(population))\n",
    "for i in range(10):\n",
    "    inf_mig(infected_1)\n",
    "print('______________')\n",
    "for i in range(10):\n",
    "    inf_mig(infected_2)\n"
   ]
  },
  {
   "cell_type": "code",
   "execution_count": 117,
   "id": "4d844d54",
   "metadata": {},
   "outputs": [
    {
     "name": "stdout",
     "output_type": "stream",
     "text": [
      "1\n"
     ]
    }
   ],
   "source": [
    "def new_day(pop, inf):\n",
    "    migration(pop)\n",
    "    inf_mig(inf)\n",
    "    "
   ]
  }
 ],
 "metadata": {
  "kernelspec": {
   "display_name": "Python 3 (ipykernel)",
   "language": "python",
   "name": "python3"
  },
  "language_info": {
   "codemirror_mode": {
    "name": "ipython",
    "version": 3
   },
   "file_extension": ".py",
   "mimetype": "text/x-python",
   "name": "python",
   "nbconvert_exporter": "python",
   "pygments_lexer": "ipython3",
   "version": "3.10.4"
  }
 },
 "nbformat": 4,
 "nbformat_minor": 5
}
